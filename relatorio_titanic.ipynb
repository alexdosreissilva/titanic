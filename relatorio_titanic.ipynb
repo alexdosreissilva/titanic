{
 "cells": [
  {
   "cell_type": "code",
   "execution_count": 23,
   "metadata": {},
   "outputs": [],
   "source": [
    "import numpy as np # Importa a biblioteca numpy e lhe atribue o alias np\n",
    "import pandas as pd # Importa a biblioteca pandas e lhe atribue o alias pd\n",
    "import matplotlib.pyplot as plt # Importa o modulo pyplot da biblioteca matplotlib e lhe atribue o alias plt\n",
    "from matplotlib.ticker import MaxNLocator # Importa a classe MaxNLocator do modulo ticker da biblioteca matplotlib\n",
    "from collections import namedtuple # Importa namedtuple da biblioteca collections\n",
    "from math import ceil # Importa ceil da biblioteca math\n",
    "%matplotlib inline"
   ]
  },
  {
   "cell_type": "markdown",
   "metadata": {},
   "source": [
    "Observação: O conjunto de dados utilizado foi referente ao acidente do titanic"
   ]
  },
  {
   "cell_type": "code",
   "execution_count": 24,
   "metadata": {},
   "outputs": [
    {
     "data": {
      "text/html": [
       "<div>\n",
       "<style scoped>\n",
       "    .dataframe tbody tr th:only-of-type {\n",
       "        vertical-align: middle;\n",
       "    }\n",
       "\n",
       "    .dataframe tbody tr th {\n",
       "        vertical-align: top;\n",
       "    }\n",
       "\n",
       "    .dataframe thead th {\n",
       "        text-align: right;\n",
       "    }\n",
       "</style>\n",
       "<table border=\"1\" class=\"dataframe\">\n",
       "  <thead>\n",
       "    <tr style=\"text-align: right;\">\n",
       "      <th></th>\n",
       "      <th>PassengerId</th>\n",
       "      <th>Survived</th>\n",
       "      <th>Pclass</th>\n",
       "      <th>Name</th>\n",
       "      <th>Sex</th>\n",
       "      <th>Age</th>\n",
       "      <th>SibSp</th>\n",
       "      <th>Parch</th>\n",
       "      <th>Ticket</th>\n",
       "      <th>Fare</th>\n",
       "      <th>Cabin</th>\n",
       "      <th>Embarked</th>\n",
       "    </tr>\n",
       "  </thead>\n",
       "  <tbody>\n",
       "    <tr>\n",
       "      <th>0</th>\n",
       "      <td>1</td>\n",
       "      <td>0</td>\n",
       "      <td>3</td>\n",
       "      <td>Braund, Mr. Owen Harris</td>\n",
       "      <td>male</td>\n",
       "      <td>22.0</td>\n",
       "      <td>1</td>\n",
       "      <td>0</td>\n",
       "      <td>A/5 21171</td>\n",
       "      <td>7.2500</td>\n",
       "      <td>NaN</td>\n",
       "      <td>S</td>\n",
       "    </tr>\n",
       "    <tr>\n",
       "      <th>1</th>\n",
       "      <td>2</td>\n",
       "      <td>1</td>\n",
       "      <td>1</td>\n",
       "      <td>Cumings, Mrs. John Bradley (Florence Briggs Th...</td>\n",
       "      <td>female</td>\n",
       "      <td>38.0</td>\n",
       "      <td>1</td>\n",
       "      <td>0</td>\n",
       "      <td>PC 17599</td>\n",
       "      <td>71.2833</td>\n",
       "      <td>C85</td>\n",
       "      <td>C</td>\n",
       "    </tr>\n",
       "    <tr>\n",
       "      <th>2</th>\n",
       "      <td>3</td>\n",
       "      <td>1</td>\n",
       "      <td>3</td>\n",
       "      <td>Heikkinen, Miss. Laina</td>\n",
       "      <td>female</td>\n",
       "      <td>26.0</td>\n",
       "      <td>0</td>\n",
       "      <td>0</td>\n",
       "      <td>STON/O2. 3101282</td>\n",
       "      <td>7.9250</td>\n",
       "      <td>NaN</td>\n",
       "      <td>S</td>\n",
       "    </tr>\n",
       "    <tr>\n",
       "      <th>3</th>\n",
       "      <td>4</td>\n",
       "      <td>1</td>\n",
       "      <td>1</td>\n",
       "      <td>Futrelle, Mrs. Jacques Heath (Lily May Peel)</td>\n",
       "      <td>female</td>\n",
       "      <td>35.0</td>\n",
       "      <td>1</td>\n",
       "      <td>0</td>\n",
       "      <td>113803</td>\n",
       "      <td>53.1000</td>\n",
       "      <td>C123</td>\n",
       "      <td>S</td>\n",
       "    </tr>\n",
       "    <tr>\n",
       "      <th>4</th>\n",
       "      <td>5</td>\n",
       "      <td>0</td>\n",
       "      <td>3</td>\n",
       "      <td>Allen, Mr. William Henry</td>\n",
       "      <td>male</td>\n",
       "      <td>35.0</td>\n",
       "      <td>0</td>\n",
       "      <td>0</td>\n",
       "      <td>373450</td>\n",
       "      <td>8.0500</td>\n",
       "      <td>NaN</td>\n",
       "      <td>S</td>\n",
       "    </tr>\n",
       "  </tbody>\n",
       "</table>\n",
       "</div>"
      ],
      "text/plain": [
       "   PassengerId  Survived  Pclass  \\\n",
       "0            1         0       3   \n",
       "1            2         1       1   \n",
       "2            3         1       3   \n",
       "3            4         1       1   \n",
       "4            5         0       3   \n",
       "\n",
       "                                                Name     Sex   Age  SibSp  \\\n",
       "0                            Braund, Mr. Owen Harris    male  22.0      1   \n",
       "1  Cumings, Mrs. John Bradley (Florence Briggs Th...  female  38.0      1   \n",
       "2                             Heikkinen, Miss. Laina  female  26.0      0   \n",
       "3       Futrelle, Mrs. Jacques Heath (Lily May Peel)  female  35.0      1   \n",
       "4                           Allen, Mr. William Henry    male  35.0      0   \n",
       "\n",
       "   Parch            Ticket     Fare Cabin Embarked  \n",
       "0      0         A/5 21171   7.2500   NaN        S  \n",
       "1      0          PC 17599  71.2833   C85        C  \n",
       "2      0  STON/O2. 3101282   7.9250   NaN        S  \n",
       "3      0            113803  53.1000  C123        S  \n",
       "4      0            373450   8.0500   NaN        S  "
      ]
     },
     "execution_count": 24,
     "metadata": {},
     "output_type": "execute_result"
    }
   ],
   "source": [
    "df = pd.read_csv(\"train.csv\") # Lê o arquivo train.csv e armazena o conteudo na variavel df\n",
    "df.head() # Exibe as cinco primeiras linhas do arquivo train.csv"
   ]
  },
  {
   "cell_type": "markdown",
   "metadata": {},
   "source": [
    "# INTRODUÇÃO"
   ]
  },
  {
   "cell_type": "markdown",
   "metadata": {},
   "source": [
    "colunas analisadas: Pclass, Age, Sex, Survived\n",
    "\n",
    "Perguntas\n",
    "1. Quais as principais caracteristicas que proporcionaram a determinadas pessoas serem mais propensas sobreviver?\n",
    "2. Pessoas de um certo tipo de sexo foram mais propensas a sobreviver?\n",
    "3. Pessoas em uma certa faixa de idade foram mais propensas a sobreviver?\n",
    "4. Pessoas de um certo tipo de classe foram mais propensas a sobreviver?"
   ]
  },
  {
   "cell_type": "markdown",
   "metadata": {},
   "source": [
    "# LIMPEZA DOS DADOS"
   ]
  },
  {
   "cell_type": "code",
   "execution_count": 25,
   "metadata": {},
   "outputs": [
    {
     "data": {
      "text/html": [
       "<div>\n",
       "<style scoped>\n",
       "    .dataframe tbody tr th:only-of-type {\n",
       "        vertical-align: middle;\n",
       "    }\n",
       "\n",
       "    .dataframe tbody tr th {\n",
       "        vertical-align: top;\n",
       "    }\n",
       "\n",
       "    .dataframe thead th {\n",
       "        text-align: right;\n",
       "    }\n",
       "</style>\n",
       "<table border=\"1\" class=\"dataframe\">\n",
       "  <thead>\n",
       "    <tr style=\"text-align: right;\">\n",
       "      <th></th>\n",
       "      <th>PassengerId</th>\n",
       "      <th>Survived</th>\n",
       "      <th>Pclass</th>\n",
       "      <th>Name</th>\n",
       "      <th>Sex</th>\n",
       "      <th>Age</th>\n",
       "      <th>SibSp</th>\n",
       "      <th>Parch</th>\n",
       "      <th>Ticket</th>\n",
       "      <th>Fare</th>\n",
       "      <th>Cabin</th>\n",
       "      <th>Embarked</th>\n",
       "    </tr>\n",
       "  </thead>\n",
       "  <tbody>\n",
       "    <tr>\n",
       "      <th>count</th>\n",
       "      <td>891.000000</td>\n",
       "      <td>891.000000</td>\n",
       "      <td>891.000000</td>\n",
       "      <td>891</td>\n",
       "      <td>891</td>\n",
       "      <td>714.000000</td>\n",
       "      <td>891.000000</td>\n",
       "      <td>891.000000</td>\n",
       "      <td>891</td>\n",
       "      <td>891.000000</td>\n",
       "      <td>204</td>\n",
       "      <td>889</td>\n",
       "    </tr>\n",
       "    <tr>\n",
       "      <th>unique</th>\n",
       "      <td>NaN</td>\n",
       "      <td>NaN</td>\n",
       "      <td>NaN</td>\n",
       "      <td>891</td>\n",
       "      <td>2</td>\n",
       "      <td>NaN</td>\n",
       "      <td>NaN</td>\n",
       "      <td>NaN</td>\n",
       "      <td>681</td>\n",
       "      <td>NaN</td>\n",
       "      <td>147</td>\n",
       "      <td>3</td>\n",
       "    </tr>\n",
       "    <tr>\n",
       "      <th>top</th>\n",
       "      <td>NaN</td>\n",
       "      <td>NaN</td>\n",
       "      <td>NaN</td>\n",
       "      <td>Ross, Mr. John Hugo</td>\n",
       "      <td>male</td>\n",
       "      <td>NaN</td>\n",
       "      <td>NaN</td>\n",
       "      <td>NaN</td>\n",
       "      <td>347082</td>\n",
       "      <td>NaN</td>\n",
       "      <td>B96 B98</td>\n",
       "      <td>S</td>\n",
       "    </tr>\n",
       "    <tr>\n",
       "      <th>freq</th>\n",
       "      <td>NaN</td>\n",
       "      <td>NaN</td>\n",
       "      <td>NaN</td>\n",
       "      <td>1</td>\n",
       "      <td>577</td>\n",
       "      <td>NaN</td>\n",
       "      <td>NaN</td>\n",
       "      <td>NaN</td>\n",
       "      <td>7</td>\n",
       "      <td>NaN</td>\n",
       "      <td>4</td>\n",
       "      <td>644</td>\n",
       "    </tr>\n",
       "    <tr>\n",
       "      <th>mean</th>\n",
       "      <td>446.000000</td>\n",
       "      <td>0.383838</td>\n",
       "      <td>2.308642</td>\n",
       "      <td>NaN</td>\n",
       "      <td>NaN</td>\n",
       "      <td>29.699118</td>\n",
       "      <td>0.523008</td>\n",
       "      <td>0.381594</td>\n",
       "      <td>NaN</td>\n",
       "      <td>32.204208</td>\n",
       "      <td>NaN</td>\n",
       "      <td>NaN</td>\n",
       "    </tr>\n",
       "    <tr>\n",
       "      <th>std</th>\n",
       "      <td>257.353842</td>\n",
       "      <td>0.486592</td>\n",
       "      <td>0.836071</td>\n",
       "      <td>NaN</td>\n",
       "      <td>NaN</td>\n",
       "      <td>14.526497</td>\n",
       "      <td>1.102743</td>\n",
       "      <td>0.806057</td>\n",
       "      <td>NaN</td>\n",
       "      <td>49.693429</td>\n",
       "      <td>NaN</td>\n",
       "      <td>NaN</td>\n",
       "    </tr>\n",
       "    <tr>\n",
       "      <th>min</th>\n",
       "      <td>1.000000</td>\n",
       "      <td>0.000000</td>\n",
       "      <td>1.000000</td>\n",
       "      <td>NaN</td>\n",
       "      <td>NaN</td>\n",
       "      <td>0.420000</td>\n",
       "      <td>0.000000</td>\n",
       "      <td>0.000000</td>\n",
       "      <td>NaN</td>\n",
       "      <td>0.000000</td>\n",
       "      <td>NaN</td>\n",
       "      <td>NaN</td>\n",
       "    </tr>\n",
       "    <tr>\n",
       "      <th>25%</th>\n",
       "      <td>223.500000</td>\n",
       "      <td>0.000000</td>\n",
       "      <td>2.000000</td>\n",
       "      <td>NaN</td>\n",
       "      <td>NaN</td>\n",
       "      <td>20.125000</td>\n",
       "      <td>0.000000</td>\n",
       "      <td>0.000000</td>\n",
       "      <td>NaN</td>\n",
       "      <td>7.910400</td>\n",
       "      <td>NaN</td>\n",
       "      <td>NaN</td>\n",
       "    </tr>\n",
       "    <tr>\n",
       "      <th>50%</th>\n",
       "      <td>446.000000</td>\n",
       "      <td>0.000000</td>\n",
       "      <td>3.000000</td>\n",
       "      <td>NaN</td>\n",
       "      <td>NaN</td>\n",
       "      <td>28.000000</td>\n",
       "      <td>0.000000</td>\n",
       "      <td>0.000000</td>\n",
       "      <td>NaN</td>\n",
       "      <td>14.454200</td>\n",
       "      <td>NaN</td>\n",
       "      <td>NaN</td>\n",
       "    </tr>\n",
       "    <tr>\n",
       "      <th>75%</th>\n",
       "      <td>668.500000</td>\n",
       "      <td>1.000000</td>\n",
       "      <td>3.000000</td>\n",
       "      <td>NaN</td>\n",
       "      <td>NaN</td>\n",
       "      <td>38.000000</td>\n",
       "      <td>1.000000</td>\n",
       "      <td>0.000000</td>\n",
       "      <td>NaN</td>\n",
       "      <td>31.000000</td>\n",
       "      <td>NaN</td>\n",
       "      <td>NaN</td>\n",
       "    </tr>\n",
       "    <tr>\n",
       "      <th>max</th>\n",
       "      <td>891.000000</td>\n",
       "      <td>1.000000</td>\n",
       "      <td>3.000000</td>\n",
       "      <td>NaN</td>\n",
       "      <td>NaN</td>\n",
       "      <td>80.000000</td>\n",
       "      <td>8.000000</td>\n",
       "      <td>6.000000</td>\n",
       "      <td>NaN</td>\n",
       "      <td>512.329200</td>\n",
       "      <td>NaN</td>\n",
       "      <td>NaN</td>\n",
       "    </tr>\n",
       "  </tbody>\n",
       "</table>\n",
       "</div>"
      ],
      "text/plain": [
       "        PassengerId    Survived      Pclass                 Name   Sex  \\\n",
       "count    891.000000  891.000000  891.000000                  891   891   \n",
       "unique          NaN         NaN         NaN                  891     2   \n",
       "top             NaN         NaN         NaN  Ross, Mr. John Hugo  male   \n",
       "freq            NaN         NaN         NaN                    1   577   \n",
       "mean     446.000000    0.383838    2.308642                  NaN   NaN   \n",
       "std      257.353842    0.486592    0.836071                  NaN   NaN   \n",
       "min        1.000000    0.000000    1.000000                  NaN   NaN   \n",
       "25%      223.500000    0.000000    2.000000                  NaN   NaN   \n",
       "50%      446.000000    0.000000    3.000000                  NaN   NaN   \n",
       "75%      668.500000    1.000000    3.000000                  NaN   NaN   \n",
       "max      891.000000    1.000000    3.000000                  NaN   NaN   \n",
       "\n",
       "               Age       SibSp       Parch  Ticket        Fare    Cabin  \\\n",
       "count   714.000000  891.000000  891.000000     891  891.000000      204   \n",
       "unique         NaN         NaN         NaN     681         NaN      147   \n",
       "top            NaN         NaN         NaN  347082         NaN  B96 B98   \n",
       "freq           NaN         NaN         NaN       7         NaN        4   \n",
       "mean     29.699118    0.523008    0.381594     NaN   32.204208      NaN   \n",
       "std      14.526497    1.102743    0.806057     NaN   49.693429      NaN   \n",
       "min       0.420000    0.000000    0.000000     NaN    0.000000      NaN   \n",
       "25%      20.125000    0.000000    0.000000     NaN    7.910400      NaN   \n",
       "50%      28.000000    0.000000    0.000000     NaN   14.454200      NaN   \n",
       "75%      38.000000    1.000000    0.000000     NaN   31.000000      NaN   \n",
       "max      80.000000    8.000000    6.000000     NaN  512.329200      NaN   \n",
       "\n",
       "       Embarked  \n",
       "count       889  \n",
       "unique        3  \n",
       "top           S  \n",
       "freq        644  \n",
       "mean        NaN  \n",
       "std         NaN  \n",
       "min         NaN  \n",
       "25%         NaN  \n",
       "50%         NaN  \n",
       "75%         NaN  \n",
       "max         NaN  "
      ]
     },
     "execution_count": 25,
     "metadata": {},
     "output_type": "execute_result"
    }
   ],
   "source": [
    "df.describe(include=\"all\")"
   ]
  },
  {
   "cell_type": "code",
   "execution_count": 26,
   "metadata": {},
   "outputs": [],
   "source": [
    "df = df.drop(columns=['Cabin']) # Exclusão da coluna Cabin"
   ]
  },
  {
   "cell_type": "code",
   "execution_count": 27,
   "metadata": {},
   "outputs": [],
   "source": [
    "df = df.dropna() # Exclusão das linhas com valores ausentes"
   ]
  },
  {
   "cell_type": "markdown",
   "metadata": {},
   "source": [
    "Para a limpeza dos dados foram utilizados os seguintes passos\n",
    "1. Identificação da quantidade de dados em cada coluna.\n",
    "2. Identificação e exclusão das colunas com mais dados ausentes.\n",
    "3. Identificação e exclusão das linhas com valores ausentes."
   ]
  },
  {
   "cell_type": "code",
   "execution_count": 28,
   "metadata": {},
   "outputs": [],
   "source": [
    "#media_idade = df[\"Age\"].mean() # Calcula a média das idades e armazena o valor na variavel media_idade\n",
    "#df[\"Age\"] = df[\"Age\"].fillna(media_idade) # Preenche os valores ausentes da coluna Age com a média das idades"
   ]
  },
  {
   "cell_type": "markdown",
   "metadata": {},
   "source": [
    "Resposta para a pergunta 01:\n",
    "As caracteristicas que proporcionaram a determinadas pessoas serem mais propensas a sobreviver foram idade se maior ou igual a idade mediana, sexo se feminino e classe se upper. "
   ]
  },
  {
   "cell_type": "code",
   "execution_count": 29,
   "metadata": {},
   "outputs": [],
   "source": [
    "def percentual(fracao, total=712):\n",
    "    \"\"\"\n",
    "        Função que retorna o percentual correspondente\n",
    "        de uma amostra em um total de registros.\n",
    "        Arguments:\n",
    "            fracao: Quantidade de amostras.\n",
    "            total: Total de registros.\n",
    "        Return:\n",
    "            Um número float correspondente ao percentual de uma amostra\n",
    "            em um total de registros.\n",
    "    \"\"\"\n",
    "    return ceil((fracao * 100) / total)"
   ]
  },
  {
   "cell_type": "code",
   "execution_count": 30,
   "metadata": {},
   "outputs": [],
   "source": [
    "def pie(explode, labels, sizes):\n",
    "    \"\"\"\n",
    "        Função que gera gráfico de pizza.\n",
    "        Arguments:\n",
    "            explode: O espaçamento de cada parte do gráfico.\n",
    "            labels: O rotulo de cada parte do gráfico.\n",
    "            sizes: O percentual de cada parte do gráfico.\n",
    "        Return:\n",
    "            Nenhum.\n",
    "    \"\"\"\n",
    "    explode = explode\n",
    "\n",
    "    fig1, ax1 = plt.subplots()\n",
    "    ax1.pie(sizes, explode=explode, labels=labels, autopct='%1.1f%%',\n",
    "        shadow=True, startangle=90)\n",
    "    ax1.axis('equal')\n",
    "\n",
    "    plt.show()"
   ]
  },
  {
   "cell_type": "code",
   "execution_count": 31,
   "metadata": {},
   "outputs": [],
   "source": [
    "def bar(n_groups, vals_bar_1, vals_bar_2, std, label_bar_1, label_bar_2, \n",
    "        color_bar_1, color_bar_2, xlabel, ylabel, title, xticklabels):\n",
    "    \"\"\"\n",
    "        Função que gera gráfico de barras.\n",
    "        Arguments:\n",
    "            n_groups: A quantidade de grupos no gráfico.\n",
    "            vals_bar_1: Os valores da primeira barra de cada grupo no gráfico.\n",
    "            vals_bar_2: Os valores da segunda barra de cada grupo no gráfico.\n",
    "            std: O tamanho do traço vertical em cima de cada barra dos grupos no gráfico.\n",
    "            label_bar_1: O rotulo da primeira barra de cada grupo no gráfico.\n",
    "            label_bar_2: O rotulo da segunda barra de cada grupo no gráfico.\n",
    "            color_bar_1: A cor da primeira barra de cada grupo no gráfico.\n",
    "            color_bar_2: A cor da segunda barra de cada grupo no gráfico.\n",
    "            xlabel: O rotulo do eixo x do gráfico.\n",
    "            ylabel: O rotulo do eixo y do gráfico.\n",
    "            title: O titulo do gráfico.\n",
    "            xticklabels: O rotulo de cada grupo no gráfico.\n",
    "        Return:\n",
    "            Nenhum.\n",
    "    \"\"\"\n",
    "    \n",
    "    fig, ax = plt.subplots()\n",
    "\n",
    "    index = np.arange(n_groups)\n",
    "    bar_width = 0.35\n",
    "\n",
    "    opacity = 0.4\n",
    "    error_config = {'ecolor': '0.3'}\n",
    "\n",
    "    rects1 = ax.bar(index, vals_bar_1, bar_width,\n",
    "                    alpha=opacity, color=color_bar_1,\n",
    "                    yerr=std, error_kw=error_config,\n",
    "                    label=label_bar_1)\n",
    "\n",
    "    rects2 = ax.bar(index + bar_width, vals_bar_2, bar_width,\n",
    "                    alpha=opacity, color=color_bar_2,\n",
    "                    yerr=std, error_kw=error_config,\n",
    "                    label=label_bar_2)\n",
    "\n",
    "    ax.set_xlabel(xlabel)\n",
    "    ax.set_ylabel(ylabel)\n",
    "    ax.set_title(title)\n",
    "    ax.set_xticks(index + bar_width / 2)\n",
    "    ax.set_xticklabels(xticklabels)\n",
    "    ax.legend()\n",
    "\n",
    "    fig.tight_layout()\n",
    "    plt.show()\n",
    "    "
   ]
  },
  {
   "cell_type": "code",
   "execution_count": 32,
   "metadata": {},
   "outputs": [
    {
     "data": {
      "image/png": "[encoded data removed]",
      "text/plain": [
       "<Figure size 432x288 with 1 Axes>"
      ]
     },
     "metadata": {},
     "output_type": "display_data"
    }
   ],
   "source": [
    "qtd_m_mortas = df.query(\"Sex == 'female' and Survived == 0\")[\"Sex\"].count() # Quantidade de mulheres mortas\n",
    "qtd_m_vivas = df.query(\"Sex == 'female' and Survived == 1\")[\"Sex\"].count() # Quantidade de mulheres vivas\n",
    "\n",
    "qtd_h_mortos = df.query(\"Sex == 'male' and Survived == 0\")[\"Sex\"].count() # Quantidade de homens mortos\n",
    "qtd_h_vivos = df.query(\"Sex == 'male' and Survived == 1\")[\"Sex\"].count() # Quantidade de homens vivos\n",
    "\n",
    "perc_m_mortas = percentual(qtd_m_mortas) # Percentual de mulheres mortas\n",
    "perc_m_vivas = percentual(qtd_m_vivas) # Percentual de mulheres vivas\n",
    "\n",
    "perc_h_mortos = percentual(qtd_h_mortos) # Percentual de homens mortos\n",
    "perc_h_vivos = percentual(qtd_h_vivos) # Percentual de homens vivos\n",
    "\n",
    "explode = (0, 0.1, 0, 0)\n",
    "labels = [\"Mulheres mortas\", \"Mulheres vivas\", \"Homens mortos\", \"Homens vivos\"]\n",
    "sizes = [perc_m_mortas, perc_m_vivas, perc_h_mortos, perc_h_vivos]\n",
    "\n",
    "pie(explode, labels, sizes) # Gera um gráfico de pizza com o percentual de mulheres e homens vivos e mortos"
   ]
  },
  {
   "cell_type": "markdown",
   "metadata": {},
   "source": [
    "O gráfico acima apresenta o percentual de mulheres e homens vivos e mortos. \n",
    "\n",
    "É possível identificar que o percentual de mulheres vivas (27.5%) e maior em relação ao homens (13.7%) e que o percentual de mulheres mortas (8.8%) é menor em comparação aos homens (50%)."
   ]
  },
  {
   "cell_type": "code",
   "execution_count": 33,
   "metadata": {},
   "outputs": [
    {
     "data": {
      "image/png": "[encoded data removed]",
      "text/plain": [
       "<Figure size 432x288 with 1 Axes>"
      ]
     },
     "metadata": {},
     "output_type": "display_data"
    }
   ],
   "source": [
    "total_p_vivas = qtd_m_vivas + qtd_h_vivos # Quantidade total de pessoas vivas\n",
    "perc_m_vivas = percentual(fracao=qtd_m_vivas, total=total_p_vivas) # Percentual de mulheres vivas\n",
    "perc_h_vivos = percentual(fracao=qtd_h_vivos, total=total_p_vivas) # Percentual de homens vivos\n",
    "\n",
    "explode = (0.1, 0)\n",
    "labels = [\"Mulheres vivas\", \"Homens vivos\"]\n",
    "sizes = [perc_m_vivas, perc_h_vivos]\n",
    "\n",
    "pie(explode, labels, sizes) # Gera um gráfico de pizza com o percentual de mulheres e homens vivos"
   ]
  },
  {
   "cell_type": "markdown",
   "metadata": {},
   "source": [
    "O gráfico acima apresenta o percentual de mulheres e homens vivos. \n",
    "\n",
    "É possível identificar que as mulheres (67.3%) levaram mais vantagem para sobreviver em relação aos homens (32.7%)."
   ]
  },
  {
   "cell_type": "code",
   "execution_count": 34,
   "metadata": {},
   "outputs": [
    {
     "data": {
      "image/png": "[encoded data removed]",
      "text/plain": [
       "<Figure size 432x288 with 1 Axes>"
      ]
     },
     "metadata": {},
     "output_type": "display_data"
    }
   ],
   "source": [
    "mediana = df[\"Age\"].median() # Armazena a idade mediana na variavel mediana\n",
    "\n",
    "# Quantidade de mulheres vivas com idade menor que a idade mediana\n",
    "m_vivas_abaixo_mediana = df.query(\"Age < {} and Survived == 1 and Sex == 'female'\".format(mediana))[\"Age\"].count()\n",
    "# Quantidade de homens vivos com idade menor que a idade mediana\n",
    "h_vivos_abaixo_mediana = df.query(\"Age < {} and Survived == 1 and Sex == 'male'\".format(mediana))[\"Age\"].count()\n",
    "\n",
    "# Quantidade de mulheres vivas com idade maior ou igual a idade mediana\n",
    "m_vivas_acima_mediana = df.query(\"Age >= {} and Survived == 1 and Sex == 'female'\".format(mediana))[\"Age\"].count()\n",
    "# Quantidade de homens vivos com idade maior ou igual a idade mediana\n",
    "h_vivos_acima_mediana = df.query(\"Age >= {} and Survived == 1 and Sex == 'male'\".format(mediana))[\"Age\"].count()\n",
    "\n",
    "qtd_women = (m_vivas_abaixo_mediana, m_vivas_acima_mediana) # Os valores da primeira barra de cada grupo\n",
    "qtd_men = (h_vivos_abaixo_mediana, h_vivos_acima_mediana) # Os valores da segunda barra de cada grupo\n",
    "\n",
    "xticklabels = ('Vivos abaixo da idade mediana', 'Vivos acima ou igual a idade mediana') # Os rotulos de cada grupo\n",
    "\n",
    "# Gera um gráfico de barras com a quantidade de mulheres e homens vivos com idade menor, maior ou igual a idade mediana\n",
    "bar(2, qtd_women, qtd_men, (0, 0), 'Mulheres', 'Homens', 'r', 'g', 'Grupos', 'Quantidade', \n",
    "    'Quantidade de pessoas vivas por sexo e faixa de idades', xticklabels)"
   ]
  },
  {
   "cell_type": "markdown",
   "metadata": {},
   "source": [
    "O gráfico acima apresenta a quantidade de mulheres e homens vivos em relação a dois grupos de idade que são: mulheres e homens com idade abaixo da idade mediana e mulheres e homens com idade acima ou igual a idade mediana. \n",
    "\n",
    "É possível identificar que a quantidade de mulheres vivas nos dois grupos de idade é maior em relação  aos homens."
   ]
  },
  {
   "cell_type": "code",
   "execution_count": 35,
   "metadata": {},
   "outputs": [
    {
     "data": {
      "image/png": "[encoded data removed]",
      "text/plain": [
       "<Figure size 432x288 with 1 Axes>"
      ]
     },
     "metadata": {},
     "output_type": "display_data"
    }
   ],
   "source": [
    "# Quantidade de mulheres vivas da classe upper\n",
    "qtd_m_upper_class = df.query(\"Pclass == 1 and Survived == 1 and Sex == 'female'\")[\"Pclass\"].count()\n",
    "# Quantidade de homens vivos da classe upper\n",
    "qtd_h_upper_class = df.query(\"Pclass == 1 and Survived == 1 and Sex == 'male'\")[\"Pclass\"].count()\n",
    "\n",
    "# Quantidade de mulheres vivas da classe middle\n",
    "qtd_m_middle_class = df.query(\"Pclass == 2 and Survived == 1 and Sex == 'female'\")[\"Pclass\"].count()\n",
    "# Quantidade de homens vivos da classe middle\n",
    "qtd_h_middle_class = df.query(\"Pclass == 2 and Survived == 1 and Sex == 'male'\")[\"Pclass\"].count()\n",
    "\n",
    "# Quantidade de mulheres vivas da classe lower\n",
    "qtd_m_lower_class = df.query(\"Pclass == 3 and Survived == 1 and Sex == 'female'\")[\"Pclass\"].count()\n",
    "# Quantidade de homens vivos da classe lower\n",
    "qtd_h_lower_class = df.query(\"Pclass == 3 and Survived == 1 and Sex == 'male'\")[\"Pclass\"].count()\n",
    "\n",
    "qtd_women = (qtd_m_upper_class, qtd_m_middle_class, qtd_m_lower_class) # Os valores da primeira barra de cada grupo\n",
    "qtd_men = (qtd_h_upper_class, qtd_h_middle_class, qtd_h_lower_class) # Os valores da segunda barra de cada grupo\n",
    "\n",
    "xticklabels = ('Upper class', 'Middle class', 'Lower class') # Os rotulos de cada grupo\n",
    "\n",
    "# Gera um gráfico de barras com a quantidade de mulheres e homens vivos de cada classe\n",
    "bar(3, qtd_women, qtd_men, (0, 0, 0), 'Mulheres', 'Homens', 'r', 'g', 'Grupos', 'Quantidade', \n",
    "    'Quantidade de pessoas vivas por sexo e classe', xticklabels)"
   ]
  },
  {
   "cell_type": "markdown",
   "metadata": {},
   "source": [
    "O gráfico acima apresenta a quantidade de mulheres e homens vivos em relação a três grupos de classe que são: classe upper, classe middle e classe lower. \n",
    "\n",
    "É possível identificar que a quantidade de mulheres vivas nos três grupos de classe é maior em relação  aos homens."
   ]
  },
  {
   "cell_type": "markdown",
   "metadata": {},
   "source": [
    "Resposta para a pergunta 02:\n",
    "De acordo com os gráficos acima pessoas do sexo feminino foram mais propensas a sobreviver. "
   ]
  },
  {
   "cell_type": "code",
   "execution_count": 36,
   "metadata": {},
   "outputs": [
    {
     "data": {
      "image/png": "[encoded data removed]",
      "text/plain": [
       "<Figure size 432x288 with 1 Axes>"
      ]
     },
     "metadata": {},
     "output_type": "display_data"
    }
   ],
   "source": [
    "mediana = df[\"Age\"].median() # Armazena a idade mediana na variavel mediana\n",
    "\n",
    "# Quantidade de pessoas vivas com idade menor que a idade mediana \n",
    "vivos_abaixo_mediana = df.query(\"Age < {} and Survived == 1\".format(mediana))[\"Age\"].count()\n",
    "# Quantidade de pessoas mortas com idade menor que a idade mediana\n",
    "mortos_abaixo_mediana = df.query(\"Age < {} and Survived == 0\".format(mediana))[\"Age\"].count()\n",
    "\n",
    "# Quantidade de pessoas vivas com idade maior ou igual a idade mediana\n",
    "vivos_acima_mediana = df.query(\"Age >= {} and Survived == 1\".format(mediana))[\"Age\"].count()\n",
    "# Quantidade de pessoas mortas com idade maior ou igual a idade mediana\n",
    "mortos_acima_mediana = df.query(\"Age >= {} and Survived == 0\".format(mediana))[\"Age\"].count()\n",
    "\n",
    "qtd_vivos = (vivos_abaixo_mediana, vivos_acima_mediana) # Os valores da primeira barra de cada grupo\n",
    "qtd_mortos = (mortos_abaixo_mediana, mortos_acima_mediana) # Os valores da segunda barra de cada grupo\n",
    "\n",
    "xticklabels = ('abaixo da idade mediana', 'acima ou igual a idade mediana') # Os rotulos de cada grupo\n",
    "\n",
    "# Gera um gráfico de barras com a quantidade de pessoas vivas e mortas com idade menor, maior ou igual a idade mediana\n",
    "bar(2, qtd_vivos, qtd_mortos, (0, 0), 'Vivos', 'Mortos', 'b', 'r', 'Grupos', 'Quantidade', \n",
    "    'Quantidade de pessoas vivas e mortas por faixa de idades', xticklabels)"
   ]
  },
  {
   "cell_type": "markdown",
   "metadata": {},
   "source": [
    "O gráfico acima apresenta a quantidade de pessoas vivas e mortas em relação a dois grupos de idade que são: pessoas com idade abaixo da idade mediana e pessoas com idade acima ou igual a idade mediana. \n",
    "\n",
    "É possível identificar que a quantidade de pessoas vivas nos dois grupos de idade é maior em relação a quantidade de mortos e que pessoas com idade acima ou igual a idade mediana foram mais propensas a sobreviver."
   ]
  },
  {
   "cell_type": "code",
   "execution_count": 37,
   "metadata": {},
   "outputs": [
    {
     "data": {
      "image/png": "[encoded data removed]",
      "text/plain": [
       "<Figure size 432x288 with 1 Axes>"
      ]
     },
     "metadata": {},
     "output_type": "display_data"
    }
   ],
   "source": [
    "# Percentual de pessoas vivas com idade abaixo da idade mediana\n",
    "perc_v_abaixo_mediana = percentual(vivos_abaixo_mediana)\n",
    "# Percentual de pessoas mortas com idade abaixo da idade mediana\n",
    "perc_m_abaixo_mediana = percentual(mortos_abaixo_mediana)\n",
    "\n",
    "# Percentual de pessoas vivas com idade acima ou igual a idade mediana\n",
    "perc_v_acima_mediana = percentual(vivos_acima_mediana)\n",
    "# Percentual de pessoas mortas com idade acima ou igual a idade mediana\n",
    "perc_m_acima_mediana = percentual(mortos_acima_mediana)\n",
    "\n",
    "explode = (0.1, 0, 0.1, 0)\n",
    "labels = []\n",
    "labels.append(\"Vivos abaixo da idade mediana\")\n",
    "labels.append(\"Mortos abaixo da idade mediana\")\n",
    "labels.append(\"Vivos acima ou igual a idade mediana\")\n",
    "labels.append(\"Mortos acima ou igual a idade mediana\")\n",
    "\n",
    "sizes = [perc_v_abaixo_mediana, perc_m_abaixo_mediana, perc_v_acima_mediana, perc_m_acima_mediana]\n",
    "\n",
    "# Gera um gráfico de pizza com o percentual de pessoas vivas e mortas com idade menor, maior ou igual a idade mediana\n",
    "pie(explode, labels, sizes)"
   ]
  },
  {
   "cell_type": "markdown",
   "metadata": {},
   "source": [
    "O gráfico acima apresenta o percentual de pessoas vivas e mortas com idade abaixo da idade mediana e pessoas vivas e mortas com idade acima ou igual a idade mediana.\n",
    "\n",
    "É possível identificar que o percentual de pessoas vivas com idade acima ou igual a idade mediana (20.6%) é maior em relação as pessoas com idade abaixo da idade mediana (19.6%) e que o percentual de pessoas mortas com idade acima ou igual a idade mediana (32.4%) é maior em relação as pessoas com idade abaixo da idade mediana (27.5%)."
   ]
  },
  {
   "cell_type": "code",
   "execution_count": 38,
   "metadata": {},
   "outputs": [
    {
     "data": {
      "image/png": "[encoded data removed]",
      "text/plain": [
       "<Figure size 432x288 with 1 Axes>"
      ]
     },
     "metadata": {},
     "output_type": "display_data"
    }
   ],
   "source": [
    "# Quantidade total de pessoas vivas\n",
    "total = vivos_abaixo_mediana + vivos_acima_mediana\n",
    "\n",
    "# Percentual de pessoas vivas com idade abaixo da idade mediana\n",
    "perc_v_abaixo_mediana = percentual(fracao=vivos_abaixo_mediana, total=total)\n",
    "\n",
    "# Percentual de pessoas vivas com idade acima ou igual a idade mediana\n",
    "perc_v_acima_mediana = percentual(fracao=vivos_acima_mediana, total=total)\n",
    "\n",
    "explode = (0.1, 0)\n",
    "labels = []\n",
    "labels.append(\"Vivos abaixo da idade mediana\")\n",
    "labels.append(\"Vivos acima ou igual a idade mediana\")\n",
    "\n",
    "sizes = [perc_v_abaixo_mediana, perc_v_acima_mediana]\n",
    "\n",
    "# Gera um gráfico de pizza com o percentual de pessoas vivas com idade menor, maior ou igual a idade mediana\n",
    "pie(explode, labels, sizes)"
   ]
  },
  {
   "cell_type": "markdown",
   "metadata": {},
   "source": [
    "O gráfico acima apresenta o percentual de pessoas vivas com idade acima ou igual a idade mediana e pessoas com idade abaixo da idade mediana.\n",
    "\n",
    "É possível identificar que o percentual de pessoas vivas com idade acima ou igual a idade mediana (51.5%) é maior em comparação as pessoas com idade abaixo da idade mediana (48.5%)."
   ]
  },
  {
   "cell_type": "code",
   "execution_count": 39,
   "metadata": {},
   "outputs": [
    {
     "data": {
      "image/png": "[encoded data removed]",
      "text/plain": [
       "<Figure size 432x288 with 1 Axes>"
      ]
     },
     "metadata": {},
     "output_type": "display_data"
    }
   ],
   "source": [
    "# Quantidade de pessoas vivas da classe upper com idade menor que a idade mediana\n",
    "vivos_upper_abaixo_mediana = df.query(\"Age < {} and Pclass == 1 and Survived == 1\".format(mediana))[\"Age\"].count()\n",
    "# Quantidade de pessoas vivas da classe upper com idade maior ou igual a idade mediana\n",
    "vivos_upper_acima_mediana = df.query(\"Age >= {} and Pclass == 1 and Survived == 1\".format(mediana))[\"Age\"].count()\n",
    "\n",
    "# Quantidade de pessoas vivas da classe middle com idade menor que a idade mediana\n",
    "vivos_middle_abaixo_mediana = df.query(\"Age < {} and Pclass == 2 and Survived == 1\".format(mediana))[\"Age\"].count()\n",
    "# Quantidade de pessoas vivas da classe middle com idade maior ou igual a idade mediana\n",
    "vivos_middle_acima_mediana = df.query(\"Age >= {} and Pclass == 2 and Survived == 1\".format(mediana))[\"Age\"].count()\n",
    "\n",
    "# Quantidade de pessoas vivas da classe lower com idade menor que a idade mediana\n",
    "vivos_lower_abaixo_mediana = df.query(\"Age < {} and Pclass == 3 and Survived == 1\".format(mediana))[\"Age\"].count()\n",
    "# Quantidade de pessoas vivas da classe lower com idade maior ou igual a idade mediana\n",
    "vivos_lower_acima_mediana = df.query(\"Age >= {} and Pclass == 3 and Survived == 1\".format(mediana))[\"Age\"].count()\n",
    "\n",
    "# Os valores da primeira barra de cada grupo\n",
    "qtd_vivos_abaixo_mediana = (vivos_upper_abaixo_mediana, vivos_middle_abaixo_mediana, vivos_lower_abaixo_mediana)\n",
    "# Os valores da segunda barra de cada grupo\n",
    "qtd_vivos_acima_mediana = (vivos_upper_acima_mediana, vivos_middle_acima_mediana, vivos_lower_acima_mediana)\n",
    "\n",
    "xticklabels = ('Upper class', 'Middle class', 'Lower class') # Os rotulos de cada grupo\n",
    "\n",
    "# Gera um gráfico de barras com a quantidade de pessoas vivas de cada classe e\n",
    "# com idade menor, maior ou igual a idade mediana\n",
    "bar(3, qtd_vivos_abaixo_mediana, qtd_vivos_acima_mediana, (0, 0, 0), 'Vivos abaixo da idade mediana', \n",
    "    'Vivos acima ou igual a idade mediana', 'b', 'r', 'Grupos', 'Quantidade', \n",
    "    'Quantidade de pessoas vivas por faixa de idades e classe', xticklabels)"
   ]
  },
  {
   "cell_type": "markdown",
   "metadata": {},
   "source": [
    "O gráfico acima apresenta a quantidade de pessoas vivas com idade acima ou igual a idade mediana e pessoas com idade abaixo da idade mediana em relação a três grupos de classe que são: classe upper, classe middle e classe lower. \n",
    "\n",
    "É possível identificar que a quantidade de pessoas vivas com idade acima ou igual a idade mediana é maior na classe upper e classe middle e menor na classe lower."
   ]
  },
  {
   "cell_type": "markdown",
   "metadata": {},
   "source": [
    "Resposta para a pergunta 03:\n",
    "De acordo com a maioria dos gráficos acima pessoas acima ou igual a idade mediana foram mais propensas a sobreviver."
   ]
  },
  {
   "cell_type": "code",
   "execution_count": 40,
   "metadata": {},
   "outputs": [
    {
     "data": {
      "text/plain": [
       "Text(0,0.5,'Quantidade')"
      ]
     },
     "execution_count": 40,
     "metadata": {},
     "output_type": "execute_result"
    },
    {
     "data": {
      "image/png": "[encoded data removed]",
      "text/plain": [
       "<Figure size 432x288 with 1 Axes>"
      ]
     },
     "metadata": {},
     "output_type": "display_data"
    }
   ],
   "source": [
    "# Quantidade de pessoas vivas da classe upper\n",
    "qtd_p_upper_class = df.query(\"Pclass == 1 and Survived == 1\")[\"Pclass\"].count()\n",
    "# Quantidade de pessoas vivas da classe middle\n",
    "qtd_p_middle_class = df.query(\"Pclass == 2 and Survived == 1\")[\"Pclass\"].count()\n",
    "# Quantidade de pessoas vivas da classe lower\n",
    "qtd_p_lower_class = df.query(\"Pclass == 3 and Survived == 1\")[\"Pclass\"].count()\n",
    "\n",
    "locations = [1, 2, 3]\n",
    "heights = [qtd_p_upper_class, qtd_p_middle_class, qtd_p_lower_class]\n",
    "labels = ['Upper class', 'Middle class', 'Lower class']\n",
    "# Gera um gráfico de barras com três classes\n",
    "plt.bar(locations, heights, tick_label=labels)\n",
    "plt.title('Quantidade de pessoas vivas por classe')\n",
    "plt.xlabel('Classes')\n",
    "plt.ylabel('Quantidade')"
   ]
  },
  {
   "cell_type": "markdown",
   "metadata": {},
   "source": [
    "O gráfico acima apresenta a quantidade de pessoas vivas em relação a três grupos de classe que são: classe upper, classe middle e classe lower. \n",
    "\n",
    "É possível identificar que a quantidade de pessoas vivas na classe upper é maior em relação a classe middle e classe lower e que pessoas dessa classe foram mais privilegiadas para sobreviver."
   ]
  },
  {
   "cell_type": "code",
   "execution_count": 41,
   "metadata": {},
   "outputs": [
    {
     "data": {
      "image/png": "[encoded data removed]",
      "text/plain": [
       "<Figure size 432x288 with 1 Axes>"
      ]
     },
     "metadata": {},
     "output_type": "display_data"
    }
   ],
   "source": [
    "# Quantidade total de pessoas vivas\n",
    "total = qtd_p_upper_class + qtd_p_middle_class + qtd_p_lower_class\n",
    "\n",
    "# Percentual de pessoas vivas da classe upper\n",
    "perc_p_v_upper_class = percentual(fracao=qtd_p_upper_class, total=total)\n",
    "# Percentual de pessoas vivas da classe middle\n",
    "perc_p_v_middle_class = percentual(fracao=qtd_p_middle_class, total=total)\n",
    "# Percentual de pessoas vivas da classe lower\n",
    "perc_p_v_lower_class = percentual(fracao=qtd_p_lower_class, total=total)\n",
    "\n",
    "explode = (0.1, 0, 0)\n",
    "labels = []\n",
    "labels.append(\"Vivos da classe upper\")\n",
    "labels.append(\"Vivos da classe middle\")\n",
    "labels.append(\"Vivos da classe lower\")\n",
    "\n",
    "sizes = [perc_p_v_upper_class, perc_p_v_middle_class, perc_p_v_lower_class]\n",
    "\n",
    "# Gera um gráfico de pizza com o percentual de pessoas vivas da classe upper, middle e lower\n",
    "pie(explode, labels, sizes)"
   ]
  },
  {
   "cell_type": "markdown",
   "metadata": {},
   "source": [
    "O gráfico acima apresenta o percentual de pessoas vivas em relação a três tipos de classe que são: classe upper, classe middle e classe lower. \n",
    "\n",
    "É possível identificar que pessoas da classe upper (41.6%) tiveram mais vantagem para sobreviver em relação as demais classes (28.7% e 29.7%)."
   ]
  },
  {
   "cell_type": "markdown",
   "metadata": {},
   "source": [
    "Resposta para a pergunta 03:\n",
    "De acordo com o gráfico acima pessoas da classe upper foram mais propensas a sobreviver. "
   ]
  },
  {
   "cell_type": "code",
   "execution_count": 42,
   "metadata": {},
   "outputs": [
    {
     "data": {
      "image/png": "[encoded data removed]",
      "text/plain": [
       "<Figure size 432x288 with 1 Axes>"
      ]
     },
     "metadata": {},
     "output_type": "display_data"
    }
   ],
   "source": [
    "mediana = df[\"Age\"].median() # Armazena a idade mediana na variavel mediana\n",
    "\n",
    "# Quantidade de mulheres vivas com idade menor que a idade mediana da classe upper\n",
    "qtd_m_upper_abaixo_med = df.query(\"Sex == 'female' and Age < @mediana and Pclass == 1 and Survived == 1\")[\"Sex\"].count()\n",
    "# Quantidade de mulheres vivas com idade maior ou igual a idade mediana da classe upper\n",
    "qtd_m_upper_acima_med = df.query(\"Sex == 'female' and Age >= @mediana and Pclass == 1 and Survived == 1\")[\"Sex\"].count()\n",
    "\n",
    "# Quantidade de mulheres vivas com idade menor que a idade mediana da classe middle\n",
    "qtd_m_middle_abaixo_med = df.query(\"Sex == 'female' and Age < @mediana and Pclass == 2 and Survived == 1\")[\"Sex\"].count()\n",
    "# Quantidade de mulheres vivas com idade maior ou igual a idade mediana da classe middle\n",
    "qtd_m_middle_acima_med = df.query(\"Sex == 'female' and Age >= @mediana and Pclass == 2 and Survived == 1\")[\"Sex\"].count()\n",
    "\n",
    "# Quantidade de mulheres vivas com idade menor que a idade mediana da classe lower\n",
    "qtd_m_lower_abaixo_med = df.query(\"Sex == 'female' and Age < @mediana and Pclass == 3 and Survived == 1\")[\"Sex\"].count()\n",
    "# Quantidade de mulheres vivas com idade maior ou igual a idade mediana da classe lower\n",
    "qtd_m_lower_acima_med = df.query(\"Sex == 'female' and Age >= @mediana and Pclass == 3 and Survived == 1\")[\"Sex\"].count()\n",
    "\n",
    "# Os valores da primeira barra de cada grupo\n",
    "qtd_m_vivas_abaixo_med = [qtd_m_upper_abaixo_med, qtd_m_middle_abaixo_med, qtd_m_lower_abaixo_med]\n",
    "# Os valores da segunda barra de cada grupo\n",
    "qtd_m_vivas_acima_med = [qtd_m_upper_acima_med, qtd_m_middle_acima_med, qtd_m_lower_acima_med]\n",
    "\n",
    "xticklabels = ('Upper class', 'Middle class', 'Lower class') # Os rotulos de cada grupo\n",
    "\n",
    "# Gera um gráfico de barras com a quantidade de mulheres vivas de cada classe e\n",
    "# com idade menor, maior ou igual a idade mediana\n",
    "bar(3, qtd_m_vivas_abaixo_med, qtd_m_vivas_acima_med, (0, 0, 0), 'Abaixo da idade mediana', \n",
    "    'Acima ou igual a idade mediana', 'b', 'r', 'Grupos', 'Quantidade', \n",
    "    'Quantidade de mulheres vivas por faixa de idades e classe', xticklabels)"
   ]
  },
  {
   "cell_type": "markdown",
   "metadata": {},
   "source": [
    "O gráfico acima apresenta a quantidade de mulheres vivas com idade acima ou igual a idade mediana e mulheres vivas com idade abaixo da idade mediana em relação a três grupos de classe que são: classe upper, classe middle e classe lower.\n",
    "\n",
    "É possível identificar que mulheres da classe upper com idade acima ou igual a idade mediana foram mais propensas a sobreviver."
   ]
  },
  {
   "cell_type": "markdown",
   "metadata": {},
   "source": [
    "Resposta para a pergunta 01:\n",
    "De acordo com o gráfico acima mulheres com idade acima ou igual a idade mediana da classe upper foram mais propensas a sobreviver. "
   ]
  },
  {
   "cell_type": "markdown",
   "metadata": {},
   "source": [
    "# Conclusões\n",
    "\n",
    "De acordo com a análise feita dos dados referente ao acidente do titanic, conclui-se que as pessoas do sexo feminino (67.3%) foram mais propensas a sobreviver em relação as pessoas do sexo masculino (32.7%).\n",
    "\n",
    "As pessoas com idade maior ou igual a idade mediana (51.5%) foram mais privilegiadas a sobreviver em comparação as pessoas com idade menor (48.5%).\n",
    "\n",
    "A idade mediana dos passageiros do titanic era de 28 anos.\n",
    "\n",
    "Apenas as pessoas da classe alta (41.6%) tiveram mais vantagem a sobreviver em ralação a classe média (28.7%) e classe baixa (29.7%).\n",
    "\n",
    "As mulheres da classe alta com idade maior ou igual a 28 anos tiveram mais privilegios para sobreviver."
   ]
  },
  {
   "cell_type": "markdown",
   "metadata": {},
   "source": [
    "# Limitações\n",
    "Em uma análise inicial dos dados do acidente do titanic, identificou-se algumas limitações para uma investigação desses dados que são: A grande quantidade de dados ausentes na propriedade Cabin e alguns dados ausentes na propriedade Age.\n",
    "\n",
    "- Medida tomada:\n",
    "  * Exclusão da coluna Cabin.\n",
    "  * Exclusão das linhas com o Age ausente."
   ]
  }
 ],
 "metadata": {
  "kernelspec": {
   "display_name": "Python 3",
   "language": "python",
   "name": "python3"
  },
  "language_info": {
   "codemirror_mode": {
    "name": "ipython",
    "version": 3
   },
   "file_extension": ".py",
   "mimetype": "text/x-python",
   "name": "python",
   "nbconvert_exporter": "python",
   "pygments_lexer": "ipython3",
   "version": "3.4.3+"
  }
 },
 "nbformat": 4,
 "nbformat_minor": 2
}
